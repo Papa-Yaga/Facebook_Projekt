{
 "cells": [
  {
   "cell_type": "markdown",
   "id": "992f9e98-8839-4026-9ace-9fbe47b41b65",
   "metadata": {},
   "source": [
    "# Analysis of Facebook Behaviour.\n",
    "After downloading my personal facebook data from the past ~10 years, ive decided to run my own analysis on it.\n",
    "To understand my behavioural pattern better ive focused mostly on:\n",
    "* Reactions and activity during days/months\n",
    "* Comments, comment frequency and tendency"
   ]
  },
  {
   "cell_type": "code",
   "execution_count": 1,
   "id": "3f8b2bd4-78fe-46bd-877c-91df86ed7519",
   "metadata": {},
   "outputs": [],
   "source": [
    "import numpy as np\n",
    "import pandas as pd\n",
    "import matplotlib.pyplot as plt\n",
    "import seaborn as sns\n",
    "import json\n",
    "import os\n",
    "from datetime import datetime as dt\n",
    "\n",
    "# Importing configparser for managing files and settings\n",
    "import configparser as cp\n",
    "\n",
    "# Importing warnings and turning off deprecation warnings to clear the field of view a bit.\n",
    "import warnings\n",
    "\n",
    "warnings.filterwarnings(\"ignore\", category=DeprecationWarning)\n",
    "warnings.filterwarnings(\"ignore\", category=FutureWarning)\n",
    "\n",
    "%matplotlib inline"
   ]
  },
  {
   "cell_type": "code",
   "execution_count": 2,
   "id": "620fca43-a2f6-4cb1-8676-918df02d87b1",
   "metadata": {},
   "outputs": [],
   "source": [
    "# Establishing a config file and extracting the relevant information within\n",
    "\n",
    "config = cp.ConfigParser()\n",
    "config.read(\"config.ini\")\n",
    "DATA = config.get(\"links\", \"DATA\")"
   ]
  },
  {
   "cell_type": "code",
   "execution_count": 3,
   "id": "aab4a0b4-5067-47be-bc9b-13f682c9d78a",
   "metadata": {},
   "outputs": [],
   "source": [
    "# Accessing the relevant folders withhin the unzipped file\n",
    "\n",
    "catalogue = os.listdir(DATA)\n",
    "activity = os.listdir(DATA+\"\\\\your_facebook_activity\")\n",
    "comments = os.listdir(DATA+\"\\\\your_facebook_activity\\\\comments_and_reactions\")\n",
    "messages = os.listdir(DATA+\"\\\\your_facebook_activity\\\\messages\")"
   ]
  },
  {
   "cell_type": "code",
   "execution_count": 4,
   "id": "94fc2a14-ebe5-446c-bfc2-2a363cfe69bd",
   "metadata": {},
   "outputs": [],
   "source": [
    "# Entering the respective Subfolder\n",
    "\n",
    "for root,_,_ in os.walk(DATA):\n",
    "    if \"comments\" in root:\n",
    "        os.chdir(root)"
   ]
  },
  {
   "cell_type": "markdown",
   "id": "980f91dd-4db7-4aba-a640-fed51fe6402c",
   "metadata": {},
   "source": [
    "# Preprocessing of the Dataframe for further analysis"
   ]
  },
  {
   "cell_type": "code",
   "execution_count": 6,
   "id": "1ec3c92b-dc8e-4e92-ad0c-6aa39faf28f2",
   "metadata": {},
   "outputs": [],
   "source": [
    "times = []\n",
    "reacts = []\n",
    "action = []\n",
    "actor = []"
   ]
  },
  {
   "cell_type": "code",
   "execution_count": 7,
   "id": "cb22d49e-be7b-49cd-8f91-116ec9b6111f",
   "metadata": {},
   "outputs": [],
   "source": [
    "# Filtering for the relevant columns in the comments folder,\n",
    "# excluding comment-content and most active days\n",
    "\n",
    "for i in comments[1:-1]:\n",
    "    data_path = os.getcwd()+\"\\\\\"+i\n",
    "    file = open(data_path)\n",
    "    file_open = json.load(file)\n",
    "\n",
    "    for i in range(len(file_open)):\n",
    "        times.append(dt.utcfromtimestamp(file_open[i][\"timestamp\"]))\n",
    "        reacts.append(file_open[i][\"data\"][0][\"reaction\"][\"reaction\"])\n",
    "        actor.append(file_open[i][\"data\"][0][\"reaction\"][\"actor\"])\n",
    "        action.append(file_open[i][\"title\"])"
   ]
  },
  {
   "cell_type": "code",
   "execution_count": 8,
   "id": "2d4b5593-3df7-400d-9a90-e8e9f692cb15",
   "metadata": {},
   "outputs": [],
   "source": [
    "# Creating the DataFrame for further processing.\n",
    "\n",
    "comments_df = pd.DataFrame({\"times\":times, \"reactions\":reacts, \"actor\":actor, \"actions\":action})"
   ]
  },
  {
   "cell_type": "code",
   "execution_count": 9,
   "id": "6365a5cc-4b45-4a63-8807-3ed66c8f27c9",
   "metadata": {},
   "outputs": [],
   "source": [
    "# Segmenting times column into its parts.\n",
    "\n",
    "comments_df[\"year\"] = comments_df[\"times\"].dt.year\n",
    "comments_df[\"month\"] = comments_df[\"times\"].dt.month\n",
    "comments_df[\"day\"] = comments_df[\"times\"].dt.day\n",
    "comments_df[\"hour\"] = comments_df[\"times\"].dt.hour\n",
    "comments_df[\"minute\"] = comments_df[\"times\"].dt.minute\n",
    "comments_df[\"second\"] = comments_df[\"times\"].dt.second"
   ]
  },
  {
   "cell_type": "code",
   "execution_count": 37,
   "id": "482589a9-2890-4e9c-86ad-bb460391f974",
   "metadata": {},
   "outputs": [
    {
     "data": {
      "text/html": [
       "<div>\n",
       "<style scoped>\n",
       "    .dataframe tbody tr th:only-of-type {\n",
       "        vertical-align: middle;\n",
       "    }\n",
       "\n",
       "    .dataframe tbody tr th {\n",
       "        vertical-align: top;\n",
       "    }\n",
       "\n",
       "    .dataframe thead th {\n",
       "        text-align: right;\n",
       "    }\n",
       "</style>\n",
       "<table border=\"1\" class=\"dataframe\">\n",
       "  <thead>\n",
       "    <tr style=\"text-align: right;\">\n",
       "      <th></th>\n",
       "      <th>times</th>\n",
       "      <th>reactions</th>\n",
       "      <th>actor</th>\n",
       "      <th>year</th>\n",
       "      <th>month</th>\n",
       "      <th>day</th>\n",
       "      <th>hour</th>\n",
       "      <th>minute</th>\n",
       "      <th>second</th>\n",
       "    </tr>\n",
       "  </thead>\n",
       "  <tbody>\n",
       "    <tr>\n",
       "      <th>0</th>\n",
       "      <td>2012-10-10 20:28:08</td>\n",
       "      <td>LIKE</td>\n",
       "      <td>Sergej Nikitin</td>\n",
       "      <td>2012</td>\n",
       "      <td>10</td>\n",
       "      <td>10</td>\n",
       "      <td>20</td>\n",
       "      <td>28</td>\n",
       "      <td>8</td>\n",
       "    </tr>\n",
       "    <tr>\n",
       "      <th>1</th>\n",
       "      <td>2012-10-10 20:28:15</td>\n",
       "      <td>LIKE</td>\n",
       "      <td>Sergej Nikitin</td>\n",
       "      <td>2012</td>\n",
       "      <td>10</td>\n",
       "      <td>10</td>\n",
       "      <td>20</td>\n",
       "      <td>28</td>\n",
       "      <td>15</td>\n",
       "    </tr>\n",
       "    <tr>\n",
       "      <th>2</th>\n",
       "      <td>2012-10-19 19:39:06</td>\n",
       "      <td>LIKE</td>\n",
       "      <td>Sergej Nikitin</td>\n",
       "      <td>2012</td>\n",
       "      <td>10</td>\n",
       "      <td>19</td>\n",
       "      <td>19</td>\n",
       "      <td>39</td>\n",
       "      <td>6</td>\n",
       "    </tr>\n",
       "    <tr>\n",
       "      <th>3</th>\n",
       "      <td>2012-10-26 11:11:23</td>\n",
       "      <td>LIKE</td>\n",
       "      <td>Sergej Nikitin</td>\n",
       "      <td>2012</td>\n",
       "      <td>10</td>\n",
       "      <td>26</td>\n",
       "      <td>11</td>\n",
       "      <td>11</td>\n",
       "      <td>23</td>\n",
       "    </tr>\n",
       "    <tr>\n",
       "      <th>4</th>\n",
       "      <td>2012-10-30 20:24:45</td>\n",
       "      <td>LIKE</td>\n",
       "      <td>Sergej Nikitin</td>\n",
       "      <td>2012</td>\n",
       "      <td>10</td>\n",
       "      <td>30</td>\n",
       "      <td>20</td>\n",
       "      <td>24</td>\n",
       "      <td>45</td>\n",
       "    </tr>\n",
       "  </tbody>\n",
       "</table>\n",
       "</div>"
      ],
      "text/plain": [
       "                times reactions           actor  year  month  day  hour  \\\n",
       "0 2012-10-10 20:28:08      LIKE  Sergej Nikitin  2012     10   10    20   \n",
       "1 2012-10-10 20:28:15      LIKE  Sergej Nikitin  2012     10   10    20   \n",
       "2 2012-10-19 19:39:06      LIKE  Sergej Nikitin  2012     10   19    19   \n",
       "3 2012-10-26 11:11:23      LIKE  Sergej Nikitin  2012     10   26    11   \n",
       "4 2012-10-30 20:24:45      LIKE  Sergej Nikitin  2012     10   30    20   \n",
       "\n",
       "   minute  second  \n",
       "0      28       8  \n",
       "1      28      15  \n",
       "2      39       6  \n",
       "3      11      23  \n",
       "4      24      45  "
      ]
     },
     "execution_count": 37,
     "metadata": {},
     "output_type": "execute_result"
    }
   ],
   "source": [
    "comments_df[[\"times\",\"reactions\",\"actor\",\"year\",\"month\",\"day\",\"hour\",\"minute\",\"second\"]].head()"
   ]
  },
  {
   "cell_type": "markdown",
   "id": "e4526e84-1183-4a5b-b4e9-894f66829cc5",
   "metadata": {},
   "source": [
    "# Exploration"
   ]
  },
  {
   "cell_type": "code",
   "execution_count": 12,
   "id": "08e72258-44b0-482e-90a2-83dbf0070ebc",
   "metadata": {},
   "outputs": [],
   "source": [
    "from sklearn.preprocessing import OneHotEncoder\n",
    "OHE = OneHotEncoder(sparse=False)"
   ]
  },
  {
   "cell_type": "code",
   "execution_count": 13,
   "id": "976a37b8-3699-4624-9d1a-26bc9d02c350",
   "metadata": {},
   "outputs": [
    {
     "data": {
      "text/plain": [
       "<Axes: xlabel='None', ylabel='month'>"
      ]
     },
     "execution_count": 13,
     "metadata": {},
     "output_type": "execute_result"
    },
    {
     "data": {
      "image/png": "[encoded data removed]",
      "text/plain": [
       "<Figure size 640x480 with 2 Axes>"
      ]
     },
     "metadata": {},
     "output_type": "display_data"
    }
   ],
   "source": [
    "# Creating Sub-DataFrame for months and days and applying OneHotEncoder.\n",
    "# Exploring the activity over each day of each month,\n",
    "# to look for potential patterns.\n",
    "\n",
    "months_days_df = comments_df[[\"month\", \"day\"]]\n",
    "months_days_df.set_index(\"month\", inplace=True)\n",
    "\n",
    "OHE_months_days = OHE.fit_transform(months_days_df)\n",
    "OHE_months_days_df = pd.DataFrame(OHE_months_days, columns=OHE.categories_)\n",
    "\n",
    "OHE_months_days_df.set_index(months_days_df.index, inplace=True)\n",
    "OHE_months_days_df = OHE_months_days_df.groupby(\"month\").sum()\n",
    "\n",
    "sns.heatmap(OHE_months_days_df, cmap=\"mako\")"
   ]
  },
  {
   "cell_type": "code",
   "execution_count": 14,
   "id": "b4847782-b5c9-4550-bb48-a0685ed4fd28",
   "metadata": {},
   "outputs": [
    {
     "data": {
      "text/plain": [
       "<Axes: xlabel='None', ylabel='hour'>"
      ]
     },
     "execution_count": 14,
     "metadata": {},
     "output_type": "execute_result"
    },
    {
     "data": {
      "image/png": "[encoded data removed]",
      "text/plain": [
       "<Figure size 640x480 with 2 Axes>"
      ]
     },
     "metadata": {},
     "output_type": "display_data"
    }
   ],
   "source": [
    "# Repeating the above procedure for hours and minutes of a day,\n",
    "# showing obvious activity during day times and limited activity during the night.\n",
    "\n",
    "hours_minutes_df = comments_df[[\"hour\", \"minute\"]]\n",
    "hours_minutes_df.set_index(\"hour\", inplace=True)\n",
    "\n",
    "OHE_hours_minutes = OHE.fit_transform(hours_minutes_df)\n",
    "OHE_hours_minutes_df = pd.DataFrame(OHE_hours_minutes, columns=OHE.categories_)\n",
    "\n",
    "OHE_hours_minutes_df.set_index(hours_minutes_df.index, inplace=True)\n",
    "OHE_hours_minutes_df = OHE_hours_minutes_df.groupby(\"hour\").sum()\n",
    "\n",
    "sns.heatmap(OHE_hours_minutes_df, cmap=\"mako\")"
   ]
  },
  {
   "cell_type": "code",
   "execution_count": 15,
   "id": "f35a248d-6bda-4e58-aa95-337aca210f6e",
   "metadata": {},
   "outputs": [],
   "source": [
    "for root,_,_ in os.walk(DATA+\"\\\\your_facebook_activity\"):\n",
    "    if root.endswith(\"\\messages\"):\n",
    "        os.chdir(root)"
   ]
  },
  {
   "cell_type": "code",
   "execution_count": 16,
   "id": "0648f4d4-1e04-45a5-959b-1a2a0e2ff724",
   "metadata": {},
   "outputs": [],
   "source": [
    "participants = []\n",
    "times = []\n",
    "sender_name = []\n",
    "content = []"
   ]
  },
  {
   "cell_type": "code",
   "execution_count": 17,
   "id": "64065d99-480b-45dc-9261-f076ce1ea40a",
   "metadata": {},
   "outputs": [
    {
     "name": "stdout",
     "output_type": "stream",
     "text": [
      "[{'name': 'Aarklash: Legacy'}, {'name': 'Sergej Nikitin'}] [{'sender_name': 'Sergej Nikitin', 'timestamp_ms': 1374503596745, 'content': 'suppenhuhn007@gmx.de\\n\\ni suppose youve got already several hundreds of people but still, heres my email, itd like to join :D', 'is_geoblocked_for_viewer': False}]\n",
      "[{'name': 'Aaron Bomeke'}, {'name': 'Sergej Nikitin'}] [{'sender_name': 'Sergej Nikitin', 'timestamp_ms': 1554209775998, 'content': 'Ihr seid jetzt im Messenger miteinander verbunden', 'is_geoblocked_for_viewer': False}]\n"
     ]
    }
   ],
   "source": [
    "# Filtering for the relevant columns in the messages folder,\n",
    "# excluding old group conversations (not community chats however)\n",
    "\n",
    "for i in messages:\n",
    "    if i == \"inbox\":\n",
    "        inbox_data_path = os.getcwd()+\"\\\\\"+i\n",
    "        for i2 in os.listdir(inbox_data_path)[:37]:\n",
    "            \n",
    "            # Since old group conversations are saved in folders that are purely numerical\n",
    "            # and individual messages and community chats begin with letters, we filter here.\n",
    "            \n",
    "            if str.isalpha(i2[0]):\n",
    "                sub_data_path = inbox_data_path+\"\\\\\"+i2\n",
    "                messages = [x for x in os.listdir(sub_data_path) if \"message\" in x]\n",
    "                sub_data_path += f\"\\\\{messages[0]}\"\n",
    "                \n",
    "                file = open(sub_data_path)\n",
    "                file_open = json.load(file)\n",
    "\n",
    "                print(file_open[\"participants\"], file_open[\"messages\"])"
   ]
  },
  {
   "cell_type": "code",
   "execution_count": null,
   "id": "7f60f1af-ece4-465d-8402-2db5d7a74101",
   "metadata": {},
   "outputs": [],
   "source": []
  }
 ],
 "metadata": {
  "kernelspec": {
   "display_name": "Python 3 (ipykernel)",
   "language": "python",
   "name": "python3"
  },
  "language_info": {
   "codemirror_mode": {
    "name": "ipython",
    "version": 3
   },
   "file_extension": ".py",
   "mimetype": "text/x-python",
   "name": "python",
   "nbconvert_exporter": "python",
   "pygments_lexer": "ipython3",
   "version": "3.11.7"
  }
 },
 "nbformat": 4,
 "nbformat_minor": 5
}
