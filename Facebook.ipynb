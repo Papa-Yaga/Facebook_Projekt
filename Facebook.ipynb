{
 "cells": [
  {
   "cell_type": "markdown",
   "id": "992f9e98-8839-4026-9ace-9fbe47b41b65",
   "metadata": {},
   "source": [
    "# Analysis of Facebook Behaviour.\n",
    "After downloading my personal facebook data from the past ~10 years, ive decided to run my own analysis on it.\n",
    "To understand my behavioural pattern better ive focused mostly on:\n",
    "* Reactions and activity during days/months\n",
    "* Comments, comment frequency and tendency"
   ]
  },
  {
   "cell_type": "code",
   "execution_count": 2,
   "id": "3f8b2bd4-78fe-46bd-877c-91df86ed7519",
   "metadata": {},
   "outputs": [],
   "source": [
    "import numpy as np\n",
    "import pandas as pd\n",
    "import matplotlib.pyplot as plt\n",
    "import seaborn as sns\n",
    "import json\n",
    "import os\n",
    "from datetime import datetime as dt\n",
    "\n",
    "# Importing configparser for managing files and settings\n",
    "import configparser as cp\n",
    "\n",
    "# Importing warnings and turning off deprecation warnings to clear the field of view a bit.\n",
    "import warnings\n",
    "\n",
    "warnings.filterwarnings(\"ignore\", category=DeprecationWarning)\n",
    "warnings.filterwarnings(\"ignore\", category=FutureWarning)\n",
    "\n",
    "%matplotlib inline"
   ]
  },
  {
   "cell_type": "code",
   "execution_count": 3,
   "id": "620fca43-a2f6-4cb1-8676-918df02d87b1",
   "metadata": {},
   "outputs": [],
   "source": [
    "# Establishing a config file and extracting the relevant information within\n",
    "\n",
    "config = cp.ConfigParser()\n",
    "config.read(\"config.ini\")\n",
    "DATA = config.get(\"links\", \"DATA\")"
   ]
  },
  {
   "cell_type": "code",
   "execution_count": 4,
   "id": "aab4a0b4-5067-47be-bc9b-13f682c9d78a",
   "metadata": {},
   "outputs": [],
   "source": [
    "# Accessing the relevant folders withhin the unzipped file\n",
    "\n",
    "catalogue = os.listdir(DATA)\n",
    "activity = os.listdir(DATA+\"\\\\your_facebook_activity\")\n",
    "comments = os.listdir(DATA+\"\\\\your_facebook_activity\\\\comments_and_reactions\")\n",
    "messages = os.listdir(DATA+\"\\\\your_facebook_activity\\\\messages\")"
   ]
  },
  {
   "cell_type": "code",
   "execution_count": 5,
   "id": "94fc2a14-ebe5-446c-bfc2-2a363cfe69bd",
   "metadata": {},
   "outputs": [],
   "source": [
    "# Entering the respective Subfolder\n",
    "\n",
    "for root,_,_ in os.walk(DATA):\n",
    "    if \"comments\" in root:\n",
    "        os.chdir(root)"
   ]
  },
  {
   "cell_type": "markdown",
   "id": "980f91dd-4db7-4aba-a640-fed51fe6402c",
   "metadata": {},
   "source": [
    "# Preprocessing of the Dataframe for further analysis"
   ]
  },
  {
   "cell_type": "code",
   "execution_count": 7,
   "id": "1ec3c92b-dc8e-4e92-ad0c-6aa39faf28f2",
   "metadata": {},
   "outputs": [],
   "source": [
    "times = []\n",
    "reacts = []\n",
    "action = []\n",
    "actor = []"
   ]
  },
  {
   "cell_type": "code",
   "execution_count": 8,
   "id": "cb22d49e-be7b-49cd-8f91-116ec9b6111f",
   "metadata": {},
   "outputs": [],
   "source": [
    "# Filtering for the relevant columns in the comments folder,\n",
    "# excluding comment-content and most active days\n",
    "\n",
    "for i in comments[1:-1]:\n",
    "    data_path = os.getcwd()+\"\\\\\"+i\n",
    "    file = open(data_path)\n",
    "    file_open = json.load(file)\n",
    "\n",
    "    for i in range(len(file_open)):\n",
    "        times.append(dt.utcfromtimestamp(file_open[i][\"timestamp\"]))\n",
    "        reacts.append(file_open[i][\"data\"][0][\"reaction\"][\"reaction\"])\n",
    "        actor.append(file_open[i][\"data\"][0][\"reaction\"][\"actor\"])\n",
    "        action.append(file_open[i][\"title\"])"
   ]
  },
  {
   "cell_type": "code",
   "execution_count": 9,
   "id": "2d4b5593-3df7-400d-9a90-e8e9f692cb15",
   "metadata": {},
   "outputs": [],
   "source": [
    "# Creating the DataFrame for further processing.\n",
    "\n",
    "comments_df = pd.DataFrame({\"times\":times, \"reactions\":reacts, \"actor\":actor, \"actions\":action})"
   ]
  },
  {
   "cell_type": "code",
   "execution_count": 10,
   "id": "685659b3-8a1c-4be5-bd5b-fa7c7b227e36",
   "metadata": {},
   "outputs": [],
   "source": [
    "def segmenting_time(dataframe, origin):\n",
    "    \n",
    "    \"\"\" Function takes in a dataframe and a column of origin\n",
    "        and segments the column of origin into years, months\n",
    "        days, hours, minutes and seconds.\n",
    "\n",
    "        This does not remove the original column.\n",
    "        \n",
    "        Recommended format: seconds or miliseconds\"\"\"\n",
    "\n",
    "    dataframe[\"year\"] = dataframe[origin].dt.year\n",
    "    dataframe[\"month\"] = dataframe[origin].dt.month\n",
    "    dataframe[\"day\"] = dataframe[origin].dt.day\n",
    "    dataframe[\"hour\"] = dataframe[origin].dt.hour\n",
    "    dataframe[\"minute\"] = dataframe[origin].dt.minute\n",
    "    dataframe[\"second\"] = dataframe[origin].dt.second"
   ]
  },
  {
   "cell_type": "code",
   "execution_count": 11,
   "id": "6365a5cc-4b45-4a63-8807-3ed66c8f27c9",
   "metadata": {},
   "outputs": [],
   "source": [
    "segmenting_time(comments_df, \"times\")"
   ]
  },
  {
   "cell_type": "code",
   "execution_count": 12,
   "id": "482589a9-2890-4e9c-86ad-bb460391f974",
   "metadata": {},
   "outputs": [
    {
     "data": {
      "text/html": [
       "<div>\n",
       "<style scoped>\n",
       "    .dataframe tbody tr th:only-of-type {\n",
       "        vertical-align: middle;\n",
       "    }\n",
       "\n",
       "    .dataframe tbody tr th {\n",
       "        vertical-align: top;\n",
       "    }\n",
       "\n",
       "    .dataframe thead th {\n",
       "        text-align: right;\n",
       "    }\n",
       "</style>\n",
       "<table border=\"1\" class=\"dataframe\">\n",
       "  <thead>\n",
       "    <tr style=\"text-align: right;\">\n",
       "      <th></th>\n",
       "      <th>times</th>\n",
       "      <th>reactions</th>\n",
       "      <th>actor</th>\n",
       "      <th>year</th>\n",
       "      <th>month</th>\n",
       "      <th>day</th>\n",
       "      <th>hour</th>\n",
       "      <th>minute</th>\n",
       "      <th>second</th>\n",
       "    </tr>\n",
       "  </thead>\n",
       "  <tbody>\n",
       "    <tr>\n",
       "      <th>0</th>\n",
       "      <td>2012-10-10 20:28:08</td>\n",
       "      <td>LIKE</td>\n",
       "      <td>Sergej Nikitin</td>\n",
       "      <td>2012</td>\n",
       "      <td>10</td>\n",
       "      <td>10</td>\n",
       "      <td>20</td>\n",
       "      <td>28</td>\n",
       "      <td>8</td>\n",
       "    </tr>\n",
       "    <tr>\n",
       "      <th>1</th>\n",
       "      <td>2012-10-10 20:28:15</td>\n",
       "      <td>LIKE</td>\n",
       "      <td>Sergej Nikitin</td>\n",
       "      <td>2012</td>\n",
       "      <td>10</td>\n",
       "      <td>10</td>\n",
       "      <td>20</td>\n",
       "      <td>28</td>\n",
       "      <td>15</td>\n",
       "    </tr>\n",
       "    <tr>\n",
       "      <th>2</th>\n",
       "      <td>2012-10-19 19:39:06</td>\n",
       "      <td>LIKE</td>\n",
       "      <td>Sergej Nikitin</td>\n",
       "      <td>2012</td>\n",
       "      <td>10</td>\n",
       "      <td>19</td>\n",
       "      <td>19</td>\n",
       "      <td>39</td>\n",
       "      <td>6</td>\n",
       "    </tr>\n",
       "    <tr>\n",
       "      <th>3</th>\n",
       "      <td>2012-10-26 11:11:23</td>\n",
       "      <td>LIKE</td>\n",
       "      <td>Sergej Nikitin</td>\n",
       "      <td>2012</td>\n",
       "      <td>10</td>\n",
       "      <td>26</td>\n",
       "      <td>11</td>\n",
       "      <td>11</td>\n",
       "      <td>23</td>\n",
       "    </tr>\n",
       "    <tr>\n",
       "      <th>4</th>\n",
       "      <td>2012-10-30 20:24:45</td>\n",
       "      <td>LIKE</td>\n",
       "      <td>Sergej Nikitin</td>\n",
       "      <td>2012</td>\n",
       "      <td>10</td>\n",
       "      <td>30</td>\n",
       "      <td>20</td>\n",
       "      <td>24</td>\n",
       "      <td>45</td>\n",
       "    </tr>\n",
       "  </tbody>\n",
       "</table>\n",
       "</div>"
      ],
      "text/plain": [
       "                times reactions           actor  year  month  day  hour  \\\n",
       "0 2012-10-10 20:28:08      LIKE  Sergej Nikitin  2012     10   10    20   \n",
       "1 2012-10-10 20:28:15      LIKE  Sergej Nikitin  2012     10   10    20   \n",
       "2 2012-10-19 19:39:06      LIKE  Sergej Nikitin  2012     10   19    19   \n",
       "3 2012-10-26 11:11:23      LIKE  Sergej Nikitin  2012     10   26    11   \n",
       "4 2012-10-30 20:24:45      LIKE  Sergej Nikitin  2012     10   30    20   \n",
       "\n",
       "   minute  second  \n",
       "0      28       8  \n",
       "1      28      15  \n",
       "2      39       6  \n",
       "3      11      23  \n",
       "4      24      45  "
      ]
     },
     "execution_count": 12,
     "metadata": {},
     "output_type": "execute_result"
    }
   ],
   "source": [
    "privacy = comments_df.columns == \"actions\"\n",
    "comments_df.loc[:,~privacy].head()"
   ]
  },
  {
   "cell_type": "markdown",
   "id": "e4526e84-1183-4a5b-b4e9-894f66829cc5",
   "metadata": {},
   "source": [
    "# Exploration"
   ]
  },
  {
   "cell_type": "code",
   "execution_count": 14,
   "id": "08e72258-44b0-482e-90a2-83dbf0070ebc",
   "metadata": {},
   "outputs": [],
   "source": [
    "from sklearn.preprocessing import OneHotEncoder\n",
    "OHE = OneHotEncoder(sparse=False)"
   ]
  },
  {
   "cell_type": "code",
   "execution_count": 15,
   "id": "0455f1c9-f692-4179-a239-6cd64d4a7e12",
   "metadata": {},
   "outputs": [],
   "source": [
    "def create_heatmap(dataframe, x, y):\n",
    "\n",
    "    \"\"\" Function takes in a dataframe and two columns.\n",
    "        it then shows a heatmap with the first variable as\n",
    "        the index and the second as summed values, grouped by\n",
    "        the first one.\"\"\"\n",
    "    \n",
    "    dataframe.set_index(x, inplace=True)\n",
    "\n",
    "    OHE_x_y = OHE.fit_transform(dataframe)\n",
    "    OHE_x_y_df = pd.DataFrame(OHE_x_y, columns=OHE.categories_)\n",
    "    \n",
    "    OHE_x_y_df.set_index(dataframe.index, inplace=True)\n",
    "    OHE_x_y_df = OHE_x_y_df.groupby(x).sum()\n",
    "    \n",
    "    sns.heatmap(OHE_x_y_df, cmap=\"mako\")"
   ]
  },
  {
   "cell_type": "code",
   "execution_count": 16,
   "id": "976a37b8-3699-4624-9d1a-26bc9d02c350",
   "metadata": {},
   "outputs": [
    {
     "data": {
      "image/png": "[encoded data removed]",
      "text/plain": [
       "<Figure size 640x480 with 2 Axes>"
      ]
     },
     "metadata": {},
     "output_type": "display_data"
    }
   ],
   "source": [
    "# Creating Sub-DataFrame for months and days and applying OneHotEncoder.\n",
    "# Exploring the activity over each day of each month,\n",
    "# to look for potential patterns.\n",
    "\n",
    "\n",
    "months_days_comments = comments_df[[\"month\", \"day\"]]\n",
    "create_heatmap(months_days_comments, \"month\", \"day\")"
   ]
  },
  {
   "cell_type": "code",
   "execution_count": 17,
   "id": "b4847782-b5c9-4550-bb48-a0685ed4fd28",
   "metadata": {},
   "outputs": [
    {
     "data": {
      "image/png": "[encoded data removed]",
      "text/plain": [
       "<Figure size 640x480 with 2 Axes>"
      ]
     },
     "metadata": {},
     "output_type": "display_data"
    }
   ],
   "source": [
    "# Repeating the above procedure for hours and minutes of a day,\n",
    "# showing obvious activity during day times and limited activity during the night.\n",
    "\n",
    "hours_minutes_comments = comments_df[[\"hour\", \"minute\"]]\n",
    "create_heatmap(hours_minutes_comments, \"hour\", \"minutes\")"
   ]
  },
  {
   "cell_type": "code",
   "execution_count": 18,
   "id": "f35a248d-6bda-4e58-aa95-337aca210f6e",
   "metadata": {},
   "outputs": [],
   "source": [
    "for root,_,_ in os.walk(DATA+\"\\\\your_facebook_activity\"):\n",
    "    if root.endswith(\"\\messages\"):\n",
    "        os.chdir(root)"
   ]
  },
  {
   "cell_type": "code",
   "execution_count": 19,
   "id": "0648f4d4-1e04-45a5-959b-1a2a0e2ff724",
   "metadata": {},
   "outputs": [],
   "source": [
    "participants = []\n",
    "sending_times = []\n",
    "sender_name = []\n",
    "content = []"
   ]
  },
  {
   "cell_type": "code",
   "execution_count": 21,
   "id": "f11b14a1-87ed-45d6-aeb2-9c1f76cdb06a",
   "metadata": {},
   "outputs": [],
   "source": [
    "# Filtering for the relevant columns in the messages folder,\n",
    "# excluding old group conversations (not community chats however)\n",
    "\n",
    "for i in messages:\n",
    "    if i == \"inbox\":\n",
    "        inbox_data_path = os.getcwd()+\"\\\\\"+i\n",
    "        for i2 in os.listdir(inbox_data_path):\n",
    "            \n",
    "            # Since old group conversations are saved in folders that are purely numerical\n",
    "            # and individual messages and community chats begin with letters, we filter here.\n",
    "            \n",
    "            if str.isalpha(i2[0]):\n",
    "                sub_data_path = inbox_data_path+\"\\\\\"+i2\n",
    "\n",
    "                # Since some conversations hold pictures and other additional files, we filter for messages.\n",
    "                \n",
    "                messages = [x for x in os.listdir(sub_data_path) if \"message\" in x]\n",
    "                sub_data_path += f\"\\\\{messages[0]}\"\n",
    "\n",
    "                file = open(sub_data_path)\n",
    "                file_open = json.load(file)\n",
    "\n",
    "                for m in file_open[\"messages\"]:\n",
    "                    participants.append([x[\"name\"] for x in file_open[\"participants\"]])\n",
    "                    sending_times.append(dt.utcfromtimestamp(m[\"timestamp_ms\"]/1000.0))\n",
    "                    sender_name.append(m[\"sender_name\"])\n",
    "                    try:\n",
    "                        content.append(m[\"content\"])\n",
    "                    except:\n",
    "                        content.append(\"None\")\n"
   ]
  },
  {
   "cell_type": "code",
   "execution_count": 22,
   "id": "7f60f1af-ece4-465d-8402-2db5d7a74101",
   "metadata": {},
   "outputs": [],
   "source": [
    "messages_df = pd.DataFrame({\"sending_times\":sending_times, \"participants\":participants, \"sender_name\":sender_name, \"content\":content})"
   ]
  },
  {
   "cell_type": "code",
   "execution_count": 23,
   "id": "2dcf5a0e-258e-4377-a5c6-0db683e6e03e",
   "metadata": {},
   "outputs": [],
   "source": [
    "segmenting_time(messages_df, \"sending_times\")"
   ]
  },
  {
   "cell_type": "code",
   "execution_count": 24,
   "id": "30c8661c-2d0a-42dc-b15f-6b27483e0164",
   "metadata": {},
   "outputs": [
    {
     "data": {
      "text/html": [
       "<div>\n",
       "<style scoped>\n",
       "    .dataframe tbody tr th:only-of-type {\n",
       "        vertical-align: middle;\n",
       "    }\n",
       "\n",
       "    .dataframe tbody tr th {\n",
       "        vertical-align: top;\n",
       "    }\n",
       "\n",
       "    .dataframe thead th {\n",
       "        text-align: right;\n",
       "    }\n",
       "</style>\n",
       "<table border=\"1\" class=\"dataframe\">\n",
       "  <thead>\n",
       "    <tr style=\"text-align: right;\">\n",
       "      <th></th>\n",
       "      <th>sending_times</th>\n",
       "      <th>year</th>\n",
       "      <th>month</th>\n",
       "      <th>day</th>\n",
       "      <th>hour</th>\n",
       "      <th>minute</th>\n",
       "      <th>second</th>\n",
       "    </tr>\n",
       "  </thead>\n",
       "  <tbody>\n",
       "    <tr>\n",
       "      <th>0</th>\n",
       "      <td>2013-07-22 14:33:16.745</td>\n",
       "      <td>2013</td>\n",
       "      <td>7</td>\n",
       "      <td>22</td>\n",
       "      <td>14</td>\n",
       "      <td>33</td>\n",
       "      <td>16</td>\n",
       "    </tr>\n",
       "    <tr>\n",
       "      <th>1</th>\n",
       "      <td>2019-04-02 12:56:15.998</td>\n",
       "      <td>2019</td>\n",
       "      <td>4</td>\n",
       "      <td>2</td>\n",
       "      <td>12</td>\n",
       "      <td>56</td>\n",
       "      <td>15</td>\n",
       "    </tr>\n",
       "    <tr>\n",
       "      <th>2</th>\n",
       "      <td>2024-06-15 19:59:07.909</td>\n",
       "      <td>2024</td>\n",
       "      <td>6</td>\n",
       "      <td>15</td>\n",
       "      <td>19</td>\n",
       "      <td>59</td>\n",
       "      <td>7</td>\n",
       "    </tr>\n",
       "    <tr>\n",
       "      <th>3</th>\n",
       "      <td>2024-05-22 16:59:48.444</td>\n",
       "      <td>2024</td>\n",
       "      <td>5</td>\n",
       "      <td>22</td>\n",
       "      <td>16</td>\n",
       "      <td>59</td>\n",
       "      <td>48</td>\n",
       "    </tr>\n",
       "    <tr>\n",
       "      <th>4</th>\n",
       "      <td>2024-05-18 13:03:42.509</td>\n",
       "      <td>2024</td>\n",
       "      <td>5</td>\n",
       "      <td>18</td>\n",
       "      <td>13</td>\n",
       "      <td>3</td>\n",
       "      <td>42</td>\n",
       "    </tr>\n",
       "  </tbody>\n",
       "</table>\n",
       "</div>"
      ],
      "text/plain": [
       "            sending_times  year  month  day  hour  minute  second\n",
       "0 2013-07-22 14:33:16.745  2013      7   22    14      33      16\n",
       "1 2019-04-02 12:56:15.998  2019      4    2    12      56      15\n",
       "2 2024-06-15 19:59:07.909  2024      6   15    19      59       7\n",
       "3 2024-05-22 16:59:48.444  2024      5   22    16      59      48\n",
       "4 2024-05-18 13:03:42.509  2024      5   18    13       3      42"
      ]
     },
     "execution_count": 24,
     "metadata": {},
     "output_type": "execute_result"
    }
   ],
   "source": [
    "privacy_messages = ((messages_df.columns == \"content\") | \n",
    "                    (messages_df.columns == \"participants\") | \n",
    "                    (messages_df.columns == \"sender_name\"))\n",
    "\n",
    "messages_df.loc[:,~privacy_messages].head()"
   ]
  },
  {
   "cell_type": "code",
   "execution_count": 31,
   "id": "1b15911f-ba01-48a0-857d-15f64f89f1bd",
   "metadata": {},
   "outputs": [
    {
     "data": {
      "image/png": "[encoded data removed]",
      "text/plain": [
       "<Figure size 640x480 with 2 Axes>"
      ]
     },
     "metadata": {},
     "output_type": "display_data"
    }
   ],
   "source": [
    "month_day_messages = messages_df[[\"month\", \"day\"]]\n",
    "create_heatmap(month_day_messages, \"month\", \"day\")"
   ]
  },
  {
   "cell_type": "code",
   "execution_count": 33,
   "id": "6933f1e4-37dc-491d-96e9-96ba8d5e2e21",
   "metadata": {},
   "outputs": [
    {
     "data": {
      "image/png": "[encoded data removed]",
      "text/plain": [
       "<Figure size 640x480 with 2 Axes>"
      ]
     },
     "metadata": {},
     "output_type": "display_data"
    }
   ],
   "source": [
    "hour_minute_messages = messages_df[[\"hour\", \"minute\"]]\n",
    "create_heatmap(hour_minute_messages, \"hour\", \"minute\")"
   ]
  },
  {
   "cell_type": "markdown",
   "id": "ffa6e67b-d6cf-4458-863c-4c7ce4ebf0f4",
   "metadata": {},
   "source": [
    "Unfortunately neither the Reactions nor the Comments or Messages showed anything out of the norm.\n",
    "Aside from the obvious time of activity, no special characteristics can be inferred.\n"
   ]
  },
  {
   "cell_type": "markdown",
   "id": "8a6e3bac-9e62-4a9a-ae26-ce440fcb0d58",
   "metadata": {},
   "source": [
    "# Sentiment Analysis\n",
    "Since the results from the reactions, comments and messages analysis proved inconclusive or as expected,\n",
    "we will further be doing a sentiment analysis."
   ]
  },
  {
   "cell_type": "code",
   "execution_count": null,
   "id": "3e75bcf3-0ab4-4587-853e-3ddb0467d2c2",
   "metadata": {},
   "outputs": [],
   "source": [
    "# Importing the Natural Language Toolkit library as well as all necessary parts\n",
    "# for further analysis.\n",
    "\n",
    "import nltk\n",
    "nltk.download(\"all\")"
   ]
  },
  {
   "cell_type": "code",
   "execution_count": 36,
   "id": "2f6d2255-370a-4b06-ba45-bafed3eb7abc",
   "metadata": {},
   "outputs": [],
   "source": [
    "from nltk.sentiment.vader import SentimentIntensityAnalyzer\n",
    "from nltk.corpus import stopwords\n",
    "from nltk.tokenize import word_tokenize\n",
    "from nltk.stem import WordNetLemmatizer"
   ]
  },
  {
   "cell_type": "code",
   "execution_count": 37,
   "id": "21935fe2-7dce-4866-b034-6a7b8117e44c",
   "metadata": {},
   "outputs": [],
   "source": [
    "def text_processing(text):\n",
    "\n",
    "    \"\"\"Basic Function to tokenize, lemmatize text and remove stopwords.\"\"\"\n",
    "\n",
    "    base_tokens = word_tokenize(text.lower())\n",
    "    filtered_tokens = [token for token in base_tokens if token not in stopwords.words(\"english\") and \n",
    "                       (token not in stopwords.words(\"german\"))]\n",
    "    \n",
    "    lemm = WordNetLemmatizer()\n",
    "    lemm_tokens = [lemm.lemmatize(token) for token in filtered_tokens]\n",
    "\n",
    "    processed_text = \" \".join(lemm_tokens)\n",
    "\n",
    "    return processed_text"
   ]
  },
  {
   "cell_type": "code",
   "execution_count": 38,
   "id": "f65957c8-57ad-4ab5-80a7-3f0cf52d8e52",
   "metadata": {},
   "outputs": [],
   "source": [
    "messages_df[\"processed\"] = messages_df[\"content\"].apply(text_processing)"
   ]
  },
  {
   "cell_type": "code",
   "execution_count": 39,
   "id": "23a18af3-dd7c-46fa-8e43-d3462e7e49df",
   "metadata": {},
   "outputs": [],
   "source": [
    "analyzer = SentimentIntensityAnalyzer()"
   ]
  },
  {
   "cell_type": "code",
   "execution_count": 40,
   "id": "affe3f53-42b8-4beb-acde-38a18ffbce42",
   "metadata": {},
   "outputs": [],
   "source": [
    "def get_sentiment(text):\n",
    "    \n",
    "    scores = analyzer.polarity_scores(text)\n",
    "    sentiment = 1 if scores[\"pos\"] > 0 else 0\n",
    "\n",
    "    return sentiment"
   ]
  },
  {
   "cell_type": "code",
   "execution_count": 41,
   "id": "d73e375c-91ef-4684-bd81-b78375d5b3ff",
   "metadata": {},
   "outputs": [],
   "source": [
    "messages_df[\"sentiment\"] = messages_df[\"processed\"].apply(get_sentiment)"
   ]
  },
  {
   "cell_type": "markdown",
   "id": "f5e24589-5658-47ab-9d27-e6e7c3877867",
   "metadata": {},
   "source": [
    "Now that each message has been given a sentiment, let us take a look at the sentiments over the years and days."
   ]
  },
  {
   "cell_type": "code",
   "execution_count": 43,
   "id": "2f2b83b1-6ad7-4608-9c03-d83ac34a2f6f",
   "metadata": {},
   "outputs": [
    {
     "data": {
      "text/plain": [
       "year\n",
       "2011    0.056000\n",
       "2012    0.205298\n",
       "2013    0.236422\n",
       "2014    0.215820\n",
       "2015    0.243545\n",
       "2016    0.226453\n",
       "2017    0.213896\n",
       "2018    0.140373\n",
       "2019    0.125665\n",
       "2020    0.128111\n",
       "2021    0.168068\n",
       "2022    0.180634\n",
       "2023    0.193512\n",
       "2024    0.172767\n",
       "Name: sentiment, dtype: float64"
      ]
     },
     "execution_count": 43,
     "metadata": {},
     "output_type": "execute_result"
    }
   ],
   "source": [
    "messages_df.groupby(\"year\")[\"sentiment\"].mean()"
   ]
  },
  {
   "cell_type": "code",
   "execution_count": 58,
   "id": "e0d5cf45-2976-4ceb-aa9d-d146d71b5812",
   "metadata": {},
   "outputs": [
    {
     "data": {
      "text/plain": [
       "<Axes: ylabel='sentiment'>"
      ]
     },
     "execution_count": 58,
     "metadata": {},
     "output_type": "execute_result"
    },
    {
     "data": {
      "image/png": "[encoded data removed]",
      "text/plain": [
       "<Figure size 640x480 with 1 Axes>"
      ]
     },
     "metadata": {},
     "output_type": "display_data"
    }
   ],
   "source": [
    "plt.xticks(rotation=30)\n",
    "sns.barplot(x=sorted(messages_df[\"year\"].unique()), y=messages_df.groupby(\"year\")[\"sentiment\"].mean())"
   ]
  },
  {
   "cell_type": "code",
   "execution_count": 66,
   "id": "281ed7a0-9e8c-47bf-aad3-f89784d02171",
   "metadata": {},
   "outputs": [
    {
     "data": {
      "text/html": [
       "<div>\n",
       "<style scoped>\n",
       "    .dataframe tbody tr th:only-of-type {\n",
       "        vertical-align: middle;\n",
       "    }\n",
       "\n",
       "    .dataframe tbody tr th {\n",
       "        vertical-align: top;\n",
       "    }\n",
       "\n",
       "    .dataframe thead th {\n",
       "        text-align: right;\n",
       "    }\n",
       "</style>\n",
       "<table border=\"1\" class=\"dataframe\">\n",
       "  <thead>\n",
       "    <tr style=\"text-align: right;\">\n",
       "      <th></th>\n",
       "      <th>sending_times</th>\n",
       "      <th>year</th>\n",
       "      <th>month</th>\n",
       "      <th>day</th>\n",
       "      <th>hour</th>\n",
       "      <th>minute</th>\n",
       "      <th>second</th>\n",
       "      <th>sentiment</th>\n",
       "    </tr>\n",
       "  </thead>\n",
       "  <tbody>\n",
       "    <tr>\n",
       "      <th>count</th>\n",
       "      <td>150365</td>\n",
       "      <td>150365.000000</td>\n",
       "      <td>150365.000000</td>\n",
       "      <td>150365.000000</td>\n",
       "      <td>150365.000000</td>\n",
       "      <td>150365.000000</td>\n",
       "      <td>150365.000000</td>\n",
       "      <td>150365.000000</td>\n",
       "    </tr>\n",
       "    <tr>\n",
       "      <th>mean</th>\n",
       "      <td>2018-09-30 20:24:25.990821888</td>\n",
       "      <td>2018.265308</td>\n",
       "      <td>6.318186</td>\n",
       "      <td>15.334865</td>\n",
       "      <td>14.501633</td>\n",
       "      <td>29.519855</td>\n",
       "      <td>29.531420</td>\n",
       "      <td>0.169461</td>\n",
       "    </tr>\n",
       "    <tr>\n",
       "      <th>min</th>\n",
       "      <td>2011-12-11 19:57:20.128000</td>\n",
       "      <td>2011.000000</td>\n",
       "      <td>1.000000</td>\n",
       "      <td>1.000000</td>\n",
       "      <td>0.000000</td>\n",
       "      <td>0.000000</td>\n",
       "      <td>0.000000</td>\n",
       "      <td>0.000000</td>\n",
       "    </tr>\n",
       "    <tr>\n",
       "      <th>25%</th>\n",
       "      <td>2016-08-27 08:16:57.206000128</td>\n",
       "      <td>2016.000000</td>\n",
       "      <td>4.000000</td>\n",
       "      <td>8.000000</td>\n",
       "      <td>11.000000</td>\n",
       "      <td>15.000000</td>\n",
       "      <td>15.000000</td>\n",
       "      <td>0.000000</td>\n",
       "    </tr>\n",
       "    <tr>\n",
       "      <th>50%</th>\n",
       "      <td>2019-04-03 08:34:06.219000064</td>\n",
       "      <td>2019.000000</td>\n",
       "      <td>6.000000</td>\n",
       "      <td>15.000000</td>\n",
       "      <td>15.000000</td>\n",
       "      <td>29.000000</td>\n",
       "      <td>29.000000</td>\n",
       "      <td>0.000000</td>\n",
       "    </tr>\n",
       "    <tr>\n",
       "      <th>75%</th>\n",
       "      <td>2020-08-13 19:36:40.456000</td>\n",
       "      <td>2020.000000</td>\n",
       "      <td>9.000000</td>\n",
       "      <td>22.000000</td>\n",
       "      <td>18.000000</td>\n",
       "      <td>45.000000</td>\n",
       "      <td>44.000000</td>\n",
       "      <td>0.000000</td>\n",
       "    </tr>\n",
       "    <tr>\n",
       "      <th>max</th>\n",
       "      <td>2024-07-11 22:22:37.166000</td>\n",
       "      <td>2024.000000</td>\n",
       "      <td>12.000000</td>\n",
       "      <td>31.000000</td>\n",
       "      <td>23.000000</td>\n",
       "      <td>59.000000</td>\n",
       "      <td>59.000000</td>\n",
       "      <td>1.000000</td>\n",
       "    </tr>\n",
       "    <tr>\n",
       "      <th>std</th>\n",
       "      <td>NaN</td>\n",
       "      <td>2.633445</td>\n",
       "      <td>3.413391</td>\n",
       "      <td>8.581069</td>\n",
       "      <td>4.916725</td>\n",
       "      <td>17.294453</td>\n",
       "      <td>17.329138</td>\n",
       "      <td>0.375160</td>\n",
       "    </tr>\n",
       "  </tbody>\n",
       "</table>\n",
       "</div>"
      ],
      "text/plain": [
       "                       sending_times           year          month  \\\n",
       "count                         150365  150365.000000  150365.000000   \n",
       "mean   2018-09-30 20:24:25.990821888    2018.265308       6.318186   \n",
       "min       2011-12-11 19:57:20.128000    2011.000000       1.000000   \n",
       "25%    2016-08-27 08:16:57.206000128    2016.000000       4.000000   \n",
       "50%    2019-04-03 08:34:06.219000064    2019.000000       6.000000   \n",
       "75%       2020-08-13 19:36:40.456000    2020.000000       9.000000   \n",
       "max       2024-07-11 22:22:37.166000    2024.000000      12.000000   \n",
       "std                              NaN       2.633445       3.413391   \n",
       "\n",
       "                 day           hour         minute         second  \\\n",
       "count  150365.000000  150365.000000  150365.000000  150365.000000   \n",
       "mean       15.334865      14.501633      29.519855      29.531420   \n",
       "min         1.000000       0.000000       0.000000       0.000000   \n",
       "25%         8.000000      11.000000      15.000000      15.000000   \n",
       "50%        15.000000      15.000000      29.000000      29.000000   \n",
       "75%        22.000000      18.000000      45.000000      44.000000   \n",
       "max        31.000000      23.000000      59.000000      59.000000   \n",
       "std         8.581069       4.916725      17.294453      17.329138   \n",
       "\n",
       "           sentiment  \n",
       "count  150365.000000  \n",
       "mean        0.169461  \n",
       "min         0.000000  \n",
       "25%         0.000000  \n",
       "50%         0.000000  \n",
       "75%         0.000000  \n",
       "max         1.000000  \n",
       "std         0.375160  "
      ]
     },
     "execution_count": 66,
     "metadata": {},
     "output_type": "execute_result"
    }
   ],
   "source": []
  }
 ],
 "metadata": {
  "kernelspec": {
   "display_name": "Python 3 (ipykernel)",
   "language": "python",
   "name": "python3"
  },
  "language_info": {
   "codemirror_mode": {
    "name": "ipython",
    "version": 3
   },
   "file_extension": ".py",
   "mimetype": "text/x-python",
   "name": "python",
   "nbconvert_exporter": "python",
   "pygments_lexer": "ipython3",
   "version": "3.11.7"
  }
 },
 "nbformat": 4,
 "nbformat_minor": 5
}
